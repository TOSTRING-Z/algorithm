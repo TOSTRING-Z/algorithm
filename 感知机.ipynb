{
 "cells": [
  {
   "cell_type": "code",
   "execution_count": 57,
   "metadata": {
    "pycharm": {
     "name": "#%%\n"
    }
   },
   "outputs": [
    {
     "name": "stdout",
     "output_type": "stream",
     "text": [
      "[1 1]x+(1)=0   [2 6]    1    9\n",
      "[0.1 0.2]x+(0.7000000000000001)=0   [1 1]    -1    -1.0\n",
      "[-0.8 -0.4]x+(0.40000000000000013)=0   [1 1]    -1    0.8\n",
      "[-0.7  0.1]x+(0.5000000000000001)=0   [1 1]    -1    0.10000000000000009\n",
      "[-0.6  0.6]x+(0.20000000000000015)=0   [7 6]    -1    0.39999999999999947\n",
      "[-0.6  0.6]x+(0.20000000000000015)=0   [3 3]    -1    -0.20000000000000037\n",
      "[-1.   0.4]x+(1.3877787807814457e-16)=0   [3 5]    1    -0.9999999999999999\n",
      "[-1.3  0.6]x+(0.10000000000000014)=0   [2 6]    1    1.0999999999999996\n",
      "[-1.3  0.8]x+(0.10000000000000014)=0   [2 6]    1    2.2999999999999994\n",
      "[-1.3  0.8]x+(0.10000000000000014)=0   [2 6]    1    2.2999999999999994\n"
     ]
    },
    {
     "data": {
      "image/png": "[encoded data removed]",
      "text/plain": [
       "<Figure size 432x288 with 1 Axes>"
      ]
     },
     "metadata": {
      "needs_background": "light"
     },
     "output_type": "display_data"
    }
   ],
   "source": [
    "import numpy as np\n",
    "import seaborn as sns\n",
    "import matplotlib.pyplot as plt\n",
    "x = np.array([\n",
    "    [7,6],\n",
    "    [2,6],\n",
    "    [3,3],\n",
    "    [3,5],\n",
    "    [1,3],\n",
    "    [1,1]\n",
    "])\n",
    "y = np.array([\n",
    "    -1,\n",
    "    1,\n",
    "    -1,\n",
    "    1,\n",
    "    1,\n",
    "    -1\n",
    "])\n",
    "w = np.array([1,1])\n",
    "b = 1\n",
    "n = 0.1\n",
    "\n",
    "\n",
    "#初始线\n",
    "\n",
    "if w[1] == 0:\n",
    "    plt.axvline(x=-b, color='blue', linewidth=1);\n",
    "else:\n",
    "    i = np.linspace(0, 10, 100)\n",
    "    plt.plot(i,(-w[0]*(i)-b)/w[1],color='blue',)\n",
    "\n",
    "for i in range(100):\n",
    "    random = np.random.randint(x.shape[0])\n",
    "    xi = x[random]\n",
    "    yi = y[random]\n",
    "    if i%10 == 0:\n",
    "        print(f'{w}x+({b})=0   {xi}    {yi}    {yi*(w.dot(xi.T) + b)}')\n",
    "    if yi*(w.dot(xi.T) + b) <= 0:\n",
    "        w = w + n*yi*xi\n",
    "        b = b + n*yi\n",
    "#描绘点\n",
    "plt.scatter(x[:,0],x[:,1], s=5, c='red', alpha=0.5)\n",
    "#完成线\n",
    "if w[1] == 0:\n",
    "    plt.axvline(x=-b, color='red', linewidth=1);\n",
    "else:\n",
    "    i = np.linspace(0, 10, 100)\n",
    "    plt.plot(i,(-w[0]*(i)-b)/w[1], color='red')"
   ]
  },
  {
   "cell_type": "code",
   "execution_count": null,
   "metadata": {},
   "outputs": [],
   "source": []
  }
 ],
 "metadata": {
  "kernelspec": {
   "display_name": "Python 3",
   "language": "python",
   "name": "python3"
  },
  "language_info": {
   "codemirror_mode": {
    "name": "ipython",
    "version": 3
   },
   "file_extension": ".py",
   "mimetype": "text/x-python",
   "name": "python",
   "nbconvert_exporter": "python",
   "pygments_lexer": "ipython3",
   "version": "3.7.1"
  },
  "pycharm": {
   "stem_cell": {
    "cell_type": "raw",
    "metadata": {
     "collapsed": false
    },
    "source": []
   }
  }
 },
 "nbformat": 4,
 "nbformat_minor": 2
}
