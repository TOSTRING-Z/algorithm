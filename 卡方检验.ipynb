{
 "cells": [
  {
   "cell_type": "code",
   "execution_count": null,
   "metadata": {
    "collapsed": true
   },
   "outputs": [],
   "source": [
    "import numpy as np\n",
    "#行代表选择该学院（A学院，B学院，C学院，D学院）人数\n",
    "#列代表是否喜欢波罗（是，否）\n",
    "#零假设：**学院的分布对于菠萝爱好者都一样（意思就是是否爱好菠萝不影响学生对大学的选择）\n",
    "d = np.array([\n",
    "    [77.12,120.71,212.68,68.5],\n",
    "    [83.88,131.29,231.32,74.5]\n",
    "])\n",
    "#自由度：(4-1)*(2-1)=3\n",
    "#不同自由度对应不同pvalue分布\n",
    "statistic = np.sum(((d[0]-d[1])**2)/d[1])\n",
    "#statistic=3.382637819497859\n",
    "from scipy.stats import chisquare\n",
    "chisquare(f_obs=d[0], f_exp=d[1])\n",
    "#statistic=3.382637819497859, pvalue=0.33630561382253865\n",
    "#pvalue > 0.05，不能拒绝零假设"
   ]
  }
 ],
 "metadata": {
  "language_info": {
   "codemirror_mode": {
    "name": "ipython",
    "version": 2
   },
   "file_extension": ".py",
   "mimetype": "text/x-python",
   "name": "python",
   "nbconvert_exporter": "python",
   "pygments_lexer": "ipython2",
   "version": "2.7.6"
  },
  "kernelspec": {
   "name": "python3",
   "language": "python",
   "display_name": "Python 3"
  },
  "pycharm": {
   "stem_cell": {
    "cell_type": "raw",
    "source": [],
    "metadata": {
     "collapsed": false
    }
   }
  }
 },
 "nbformat": 4,
 "nbformat_minor": 0
}