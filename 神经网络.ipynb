{
 "cells": [
  {
   "cell_type": "code",
   "execution_count": 21,
   "metadata": {
    "pycharm": {
     "name": "#%%\n"
    }
   },
   "outputs": [],
   "source": [
    "import numpy as np\n",
    "def sigmoid(x,deriv = False):\n",
    "    if deriv == True:\n",
    "        return x*(1-x)\n",
    "    return 1/(1 + np.exp(-x))"
   ]
  },
  {
   "cell_type": "code",
   "execution_count": 22,
   "metadata": {},
   "outputs": [
    {
     "name": "stdout",
     "output_type": "stream",
     "text": [
      "(5, 3)\n"
     ]
    }
   ],
   "source": [
    "x = np.array([\n",
    "    [0,0,1],\n",
    "    [0,1,1],\n",
    "    [1,0,1],\n",
    "    [1,1,1],\n",
    "    [0,0,1]\n",
    "])\n",
    "print(x.shape)"
   ]
  },
  {
   "cell_type": "code",
   "execution_count": 23,
   "metadata": {},
   "outputs": [
    {
     "name": "stdout",
     "output_type": "stream",
     "text": [
      "(5, 1)\n"
     ]
    }
   ],
   "source": [
    "y = np.array([\n",
    "    [0],\n",
    "    [1],\n",
    "    [1],\n",
    "    [1],\n",
    "    [0]\n",
    "])\n",
    "print(y.shape)"
   ]
  },
  {
   "cell_type": "code",
   "execution_count": 24,
   "metadata": {},
   "outputs": [],
   "source": [
    "# 随机种子，每次随机初始化一样\n",
    "np.random.seed(1)"
   ]
  },
  {
   "cell_type": "code",
   "execution_count": 25,
   "metadata": {},
   "outputs": [
    {
     "name": "stdout",
     "output_type": "stream",
     "text": [
      "[[-0.16595599  0.44064899 -0.99977125 -0.39533485]\n",
      " [-0.70648822 -0.81532281 -0.62747958 -0.30887855]\n",
      " [-0.20646505  0.07763347 -0.16161097  0.370439  ]]\n",
      "[[-0.5910955   0.75623487 -0.94522481  0.34093502 -0.1653904 ]\n",
      " [ 0.11737966 -0.71922612 -0.60379702  0.60148914  0.93652315]\n",
      " [-0.37315164  0.38464523  0.7527783   0.78921333 -0.82991158]\n",
      " [-0.92189043 -0.66033916  0.75628501 -0.80330633 -0.15778475]]\n",
      "[[ 0.91577906]\n",
      " [ 0.06633057]\n",
      " [ 0.38375423]\n",
      " [-0.36896874]\n",
      " [ 0.37300186]]\n"
     ]
    }
   ],
   "source": [
    "#定义4层神经网络\n",
    "w0 = 2 * np.random.random((3,4)) - 1\n",
    "w1 = 2 * np.random.random((4,5)) - 1\n",
    "w2 = 2 * np.random.random((5,1)) - 1\n",
    "print(w0)\n",
    "print(w1)\n",
    "print(w2)"
   ]
  },
  {
   "cell_type": "code",
   "execution_count": 26,
   "metadata": {},
   "outputs": [
    {
     "name": "stdout",
     "output_type": "stream",
     "text": [
      "Error0.46752265967564177\n",
      "Error0.0034746943567726648\n",
      "Error0.002385161944075119\n",
      "Error0.001918897316059151\n",
      "Error0.0016460065958499095\n",
      "Error0.0014620467837984056\n"
     ]
    }
   ],
   "source": [
    "for j in range(60000):\n",
    "    l0 = x\n",
    "    l1 = sigmoid(np.dot(l0,w0))\n",
    "    l2 = sigmoid(np.dot(l1,w1))\n",
    "    l3 = sigmoid(np.dot(l2,w2))\n",
    "    l3_error = y - l3\n",
    "    if j%10000 == 0:\n",
    "        print(f'Error{np.mean(np.abs(l3_error))}')\n",
    "    l3_delta = l3_error * sigmoid(l3,deriv=True)\n",
    "    l2_error = l3_delta.dot(w2.T)\n",
    "    l2_delta = l2_error * sigmoid(l2,deriv=True)\n",
    "    l1_error = l2_delta.dot(w1.T)\n",
    "    l1_delta = l1_error * sigmoid(l1,deriv=True)\n",
    "    \n",
    "    w2 += l2.T.dot(l3_delta)\n",
    "    w1 += l1.T.dot(l2_delta)\n",
    "    w0 += l0.T.dot(l1_delta)"
   ]
  },
  {
   "cell_type": "code",
   "execution_count": 28,
   "metadata": {},
   "outputs": [
    {
     "name": "stdout",
     "output_type": "stream",
     "text": [
      "[[0.00171612]\n",
      " [0.99852228]\n",
      " [0.99854247]\n",
      " [0.99973008]\n",
      " [0.00171612]]\n"
     ]
    }
   ],
   "source": [
    "input = np.array([\n",
    "    [0,0,1],\n",
    "    [0,1,1],\n",
    "    [1,0,1],\n",
    "    [1,1,1],\n",
    "    [0,0,1]\n",
    "])\n",
    "l0 = input\n",
    "l1 = sigmoid(np.dot(l0,w0))\n",
    "l2 = sigmoid(np.dot(l1,w1))\n",
    "l3 = sigmoid(np.dot(l2,w2))\n",
    "output = l3\n",
    "print(output)"
   ]
  }
 ],
 "metadata": {
  "kernelspec": {
   "display_name": "Python 3",
   "language": "python",
   "name": "python3"
  },
  "language_info": {
   "codemirror_mode": {
    "name": "ipython",
    "version": 3
   },
   "file_extension": ".py",
   "mimetype": "text/x-python",
   "name": "python",
   "nbconvert_exporter": "python",
   "pygments_lexer": "ipython3",
   "version": "3.7.1"
  },
  "pycharm": {
   "stem_cell": {
    "cell_type": "raw",
    "metadata": {
     "collapsed": false
    },
    "source": []
   }
  }
 },
 "nbformat": 4,
 "nbformat_minor": 1
}
