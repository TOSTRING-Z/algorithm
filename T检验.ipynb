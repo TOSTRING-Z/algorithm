{
 "cells": [
  {
   "cell_type": "code",
   "execution_count": null,
   "metadata": {
    "collapsed": true
   },
   "outputs": [],
   "source": [
    "import numpy as np\n",
    "from scipy.stats import stats\n",
    "#np.random.seed(0)\n",
    "#data = np.random.normal(loc=3.2,scale=0.57**1/2,size=16) #均值mean,标准差std,数量\n",
    "# import scipy.stats as st\n",
    "# mu, sigma = 3.2, 0.57**1/2\n",
    "# data = st.norm(mu, sigma).rvs(16)\n",
    "data = np.array([2.6300000000000003 for i in range(8)]+[3.77 for j in range(8)])\n",
    "u = 2.5\n",
    "t = (data.mean()-u)/((np.sum((data-u)**2)**1/2)/(data.shape[0]-1))\n",
    "\n",
    "stats.ttest_1samp(data,2.5)"
   ]
  }
 ],
 "metadata": {
  "language_info": {
   "codemirror_mode": {
    "name": "ipython",
    "version": 2
   },
   "file_extension": ".py",
   "mimetype": "text/x-python",
   "name": "python",
   "nbconvert_exporter": "python",
   "pygments_lexer": "ipython2",
   "version": "2.7.6"
  },
  "kernelspec": {
   "name": "python3",
   "language": "python",
   "display_name": "Python 3"
  },
  "pycharm": {
   "stem_cell": {
    "cell_type": "raw",
    "source": [],
    "metadata": {
     "collapsed": false
    }
   }
  }
 },
 "nbformat": 4,
 "nbformat_minor": 0
}