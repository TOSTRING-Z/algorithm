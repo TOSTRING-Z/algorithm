{
 "cells": [
  {
   "cell_type": "code",
   "execution_count": 43,
   "metadata": {
    "pycharm": {
     "name": "#%%\n"
    }
   },
   "outputs": [
    {
     "name": "stdout",
     "output_type": "stream",
     "text": [
      "[[0 3 1]]\n",
      "[array([0, 1, 2, 3])]\n"
     ]
    },
    {
     "data": {
      "image/png": "[encoded data removed]",
      "text/plain": [
       "<Figure size 432x288 with 1 Axes>"
      ]
     },
     "metadata": {
      "needs_background": "light"
     },
     "output_type": "display_data"
    }
   ],
   "source": [
    "import numpy as np\n",
    "points = np.array([\n",
    "    [7,6],\n",
    "    [2,6],\n",
    "    [3,3],\n",
    "    [3,5],\n",
    "    [1,3],\n",
    "    [1,1]\n",
    "])\n",
    "y = np.array([1,1])\n",
    "distance = lambda v1,v2,n:np.linalg.norm(v1-v2,ord=n)\n",
    "\n",
    "from collections import namedtuple\n",
    "from pprint import pformat\n",
    "\n",
    "class Node(namedtuple('Node', 'location left_child right_child')):\n",
    "    def __repr__(self):\n",
    "        return pformat(tuple(self))\n",
    "\n",
    "def kd_tree(point_list, depth=0):\n",
    "    try:\n",
    "        # 假设所有点都具有相同的维度\n",
    "        k = len(point_list[0])\n",
    "    # 如果不是point_list返回None\n",
    "    except IndexError as e:\n",
    "        return None\n",
    "    # 根据深度选择轴，以便轴循环所有有效值\n",
    "    axis = depth % k\n",
    "\n",
    "    # 排序点列表并选择中位数作为主元素\n",
    "    np.sort(point_list, axis = axis)\n",
    "    # 向下取整\n",
    "    median = len(point_list) // 2\n",
    "\n",
    "    # 创建节点并构建子树\n",
    "    return Node(\n",
    "        location=point_list[median],\n",
    "        right_child=kdtree(point_list[:median], depth + 1),\n",
    "        left_child=kdtree(point_list[median + 1:], depth + 1)\n",
    "    )\n",
    "tree = kd_tree(points)\n",
    "# print(tree)\n",
    "\n",
    "#寻找最近节点\n",
    "def find_point(kd_tree, point, depth=0):\n",
    "    k = len(point)\n",
    "    axis = depth % k\n",
    "    print(point[axis],kd_tree.location[axis])\n",
    "    if (point == kd_tree.location).all():\n",
    "        return kd_tree\n",
    "    elif point[axis] <= kd_tree.location[axis]:\n",
    "        return find_point(kd_tree.left_child, point, depth + 1)\n",
    "    elif point[axis] >= kd_tree.location[axis]:\n",
    "        return find_point(kd_tree.right_child, point, depth + 1)\n",
    "# print(find_point(tree,y))\n",
    "\n",
    "from matplotlib import pyplot as plt\n",
    "from matplotlib.patches import Circle\n",
    "from sklearn.neighbors import KDTree\n",
    "tree = KDTree(points)\n",
    "point = points[0]\n",
    "# kNN\n",
    "dists, indices = tree.query([point], k=3)\n",
    "print(indices)\n",
    "# query radius\n",
    "indices = tree.query_radius([point], r=5)\n",
    "print(indices)\n",
    "\n",
    "fig = plt.figure()\n",
    "ax = fig.add_subplot(111, aspect='equal')\n",
    "ax.add_patch(Circle(point, 5, color='r', fill=False))\n",
    "X, Y = [p[0] for p in points], [p[1] for p in points]\n",
    "plt.scatter(X, Y)\n",
    "plt.scatter([point[0]], [point[1]], c='r')\n",
    "plt.show()"
   ]
  },
  {
   "cell_type": "code",
   "execution_count": null,
   "metadata": {},
   "outputs": [],
   "source": []
  }
 ],
 "metadata": {
  "kernelspec": {
   "display_name": "Python 3",
   "language": "python",
   "name": "python3"
  },
  "language_info": {
   "codemirror_mode": {
    "name": "ipython",
    "version": 3
   },
   "file_extension": ".py",
   "mimetype": "text/x-python",
   "name": "python",
   "nbconvert_exporter": "python",
   "pygments_lexer": "ipython3",
   "version": "3.7.1"
  },
  "pycharm": {
   "stem_cell": {
    "cell_type": "raw",
    "metadata": {
     "collapsed": false
    },
    "source": []
   }
  }
 },
 "nbformat": 4,
 "nbformat_minor": 2
}
