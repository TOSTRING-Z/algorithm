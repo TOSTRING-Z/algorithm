{
 "cells": [
  {
   "cell_type": "code",
   "execution_count": null,
   "metadata": {
    "collapsed": true
   },
   "outputs": [],
   "source": [
    "from functools import reduce\n",
    "import numpy as np\n",
    "#状态概率矩阵\n",
    "A = np.array([\n",
    "    [0.5,0.2,0.3],\n",
    "    [0.3,0.5,0.2],\n",
    "    [0.2,0.3,0.5],\n",
    "])\n",
    "#条件概率矩阵\n",
    "B = np.array([\n",
    "    [0.5,0.5],\n",
    "    [0.4,0.6],\n",
    "    [0.7,0.3],\n",
    "])\n",
    "#初始概率分布\n",
    "PI = np.array(\n",
    "    [0.2,0.4,0.4]\n",
    ")\n",
    "#观测值\n",
    "O = np.array(\n",
    "    [0,1,0,1]\n",
    ")"
   ]
  },
  {
   "cell_type": "code",
   "execution_count": null,
   "outputs": [],
   "source": [
    "#前向算法\n",
    "def Forward_probability_next(f,t):\n",
    "    return reduce(lambda F,i:F+(f[i]*A[i]) , [0] + list(range(0,3)))*B[:,O[t]]\n",
    "F = [PI * B[:,O[0]]]\n",
    "for t in range(1,O.shape[0]):\n",
    "    F.append(Forward_probability_next(F[t-1],t))\n",
    "P = np.sum(F[-1])\n",
    "print(P)\n",
    "#后向算法"
   ],
   "metadata": {
    "collapsed": false,
    "pycharm": {
     "name": "#%%\n"
    }
   }
  }
 ],
 "metadata": {
  "language_info": {
   "codemirror_mode": {
    "name": "ipython",
    "version": 2
   },
   "file_extension": ".py",
   "mimetype": "text/x-python",
   "name": "python",
   "nbconvert_exporter": "python",
   "pygments_lexer": "ipython2",
   "version": "2.7.6"
  },
  "kernelspec": {
   "name": "python3",
   "language": "python",
   "display_name": "Python 3"
  },
  "pycharm": {
   "stem_cell": {
    "cell_type": "raw",
    "source": [],
    "metadata": {
     "collapsed": false
    }
   }
  }
 },
 "nbformat": 4,
 "nbformat_minor": 0
}